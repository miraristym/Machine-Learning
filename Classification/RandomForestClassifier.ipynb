{
 "cells": [
  {
   "cell_type": "code",
   "execution_count": 56,
   "metadata": {},
   "outputs": [],
   "source": [
    "from __future__ import division, print_function, unicode_literals\n",
    "\n",
    "import numpy as np\n",
    "import pandas as pd\n",
    "import os\n",
    "\n",
    "np.random.seed(42)\n",
    "\n",
    "%matplotlib inline\n",
    "import matplotlib as mpl\n",
    "import matplotlib.pyplot as plt\n",
    "mpl.rc('axes', labelsize = 14)\n",
    "mpl.rc('xtick', labelsize = 12)\n",
    "mpl.rc('ytick', labelsize = 12)\n",
    "\n",
    "PROJECT_ROOT_DIR = \".\"\n",
    "CHAPTER_ID = \"classification\"\n",
    "\n",
    "def save_fig(fig_id, tight_layout = True):\n",
    "    path = os.path.join(PROJECT_ROOT_DIR, \"images\", CAPTER_ID, fig_id + \".png\")\n",
    "    print(\"Saving figure\", fig_id)\n",
    "    if tight_layout:\n",
    "        plt.tight_layout()\n",
    "    plt.savefig(path, format='png', dpi = 300)"
   ]
  },
  {
   "cell_type": "code",
   "execution_count": 57,
   "metadata": {},
   "outputs": [
    {
     "data": {
      "text/html": [
       "<div>\n",
       "<style scoped>\n",
       "    .dataframe tbody tr th:only-of-type {\n",
       "        vertical-align: middle;\n",
       "    }\n",
       "\n",
       "    .dataframe tbody tr th {\n",
       "        vertical-align: top;\n",
       "    }\n",
       "\n",
       "    .dataframe thead th {\n",
       "        text-align: right;\n",
       "    }\n",
       "</style>\n",
       "<table border=\"1\" class=\"dataframe\">\n",
       "  <thead>\n",
       "    <tr style=\"text-align: right;\">\n",
       "      <th></th>\n",
       "      <th>X0</th>\n",
       "      <th>X1</th>\n",
       "      <th>Y</th>\n",
       "    </tr>\n",
       "  </thead>\n",
       "  <tbody>\n",
       "    <tr>\n",
       "      <th>0</th>\n",
       "      <td>0.684314</td>\n",
       "      <td>1.102777</td>\n",
       "      <td>0</td>\n",
       "    </tr>\n",
       "    <tr>\n",
       "      <th>1</th>\n",
       "      <td>0.218752</td>\n",
       "      <td>0.122695</td>\n",
       "      <td>1</td>\n",
       "    </tr>\n",
       "    <tr>\n",
       "      <th>2</th>\n",
       "      <td>0.034522</td>\n",
       "      <td>0.329218</td>\n",
       "      <td>1</td>\n",
       "    </tr>\n",
       "    <tr>\n",
       "      <th>3</th>\n",
       "      <td>-0.323019</td>\n",
       "      <td>1.479858</td>\n",
       "      <td>0</td>\n",
       "    </tr>\n",
       "    <tr>\n",
       "      <th>4</th>\n",
       "      <td>2.303018</td>\n",
       "      <td>-0.369103</td>\n",
       "      <td>1</td>\n",
       "    </tr>\n",
       "  </tbody>\n",
       "</table>\n",
       "</div>"
      ],
      "text/plain": [
       "         X0        X1  Y\n",
       "0  0.684314  1.102777  0\n",
       "1  0.218752  0.122695  1\n",
       "2  0.034522  0.329218  1\n",
       "3 -0.323019  1.479858  0\n",
       "4  2.303018 -0.369103  1"
      ]
     },
     "execution_count": 57,
     "metadata": {},
     "output_type": "execute_result"
    }
   ],
   "source": [
    "# import dataset\n",
    "dataset = pd.read_csv(\"el4233-2018-2019-02-klasifikasi-train.csv\")\n",
    "dataset = dataset.drop('No', axis = 1)\n",
    "dataset.head()"
   ]
  },
  {
   "cell_type": "code",
   "execution_count": 58,
   "metadata": {},
   "outputs": [
    {
     "name": "stdout",
     "output_type": "stream",
     "text": [
      "(800, 2)\n",
      "(800,)\n",
      "(200, 2)\n",
      "(200,)\n",
      "[0 1 1 1 0 0 0 0 0 1 1 1 0 0 1 0 0 0 0 1 1 1 1 1 0 0 0 1 1 0 0 1 1 0 1 1 1\n",
      " 0 1 1 1 0 1 0 0 0 1 1 1 1 1 1 0 0 1 0 1 0 0 0 1 0 1 1 1 1 1 0 0 1 1 0 1 1\n",
      " 0 1 1 1 0 0 1 1 1 1 1 0 1 0 0 0 0 0 1 1 0 1 1 1 0 1 0 0 0 0 1 1 1 1 1 1 1\n",
      " 0 1 1 1 0 1 0 0 1 0 1 0 1 0 0 1 0 1 1 1 1 0 0 0 1 1 1 1 0 0 1 0 0 0 0 1 0\n",
      " 1 1 0 0 0 0 1 1 1 0 1 0 1 1 1 1 1 1 0 1 1 0 0 0 0 0 0 1 1 0 1 1 1 1 1 0 0\n",
      " 0 1 0 1 0 0 1 0 0 0 0 1 1 1 1 0 0 0 0 0 0 0 0 0 0 1 0 0 1 1 0 1 0 0 0 0 1\n",
      " 0 1 1 0 0 0 0 0 1 1 0 1 1 0 1 1 1 0 0 1 1 0 1 0 0 1 0 0 1 0 1 0 0 0 1 0 1\n",
      " 0 0 1 0 1 1 1 0 0 1 1 1 0 0 0 0 1 0 1 1 0 0 1 0 0 1 1 0 1 1 1 0 1 0 0 1 0\n",
      " 1 0 1 1 1 1 0 0 0 1 0 0 1 1 0 1 0 1 1 0 1 0 1 1 1 0 0 1 0 1 1 0 1 1 0 0 0\n",
      " 1 0 1 0 1 0 0 0 1 0 1 1 1 0 1 1 1 1 0 1 1 1 1 1 0 1 1 1 1 1 0 0 0 0 1 1 1\n",
      " 1 1 0 0 1 0 0 0 0 1 1 1 1 0 0 0 0 0 1 1 1 1 0 1 0 0 0 1 0 1 0 1 0 1 1 1 1\n",
      " 0 1 1 1 0 1 1 0 0 1 0 0 0 0 1 0 0 1 0 1 1 1 1 0 0 1 0 0 0 1 0 1 0 0 0 1 1\n",
      " 0 1 0 0 0 0 0 1 1 0 1 1 0 1 1 1 0 0 0 0 1 1 0 0 1 1 0 0 1 1 1 0 1 1 1 1 1\n",
      " 0 0 0 0 0 0 0 0 0 0 0 1 0 1 0 1 0 1 0 0 1 1 0 1 0 0 0 0 0 0 0 0 0 1 0 0 0\n",
      " 1 1 0 1 0 1 1 1 0 1 1 1 0 1 0 0 1 0 0 1 1 0 1 1 1 1 1 1 0 0 0 0 1 1 0 1 0\n",
      " 0 1 1 1 0 0 0 1 1 1 1 1 1 1 0 1 1 1 0 1 1 1 0 0 0 0 0 0 1 1 0 0 0 0 1 0 0\n",
      " 1 0 0 0 0 1 0 1 0 1 0 0 1 1 0 1 1 0 0 0 0 0 0 0 1 1 0 1 1 1 0 1 0 1 0 0 1\n",
      " 0 1 0 1 0 1 1 1 1 1 0 0 1 1 0 1 1 1 0 1 1 0 1 1 1 1 0 1 0 0 1 1 0 0 1 1 1\n",
      " 0 0 0 1 0 1 1 1 0 0 1 1 0 1 0 0 1 0 0 1 0 1 0 1 0 0 0 1 0 0 0 1 0 0 1 0 1\n",
      " 1 0 1 0 0 1 1 1 1 0 1 1 0 0 1 1 1 1 0 1 1 1 0 1 0 0 0 1 1 0 0 0 0 0 1 0 0\n",
      " 0 1 0 0 1 0 0 1 0 1 1 1 1 0 1 0 1 0 1 0 0 1 0 0 1 1 1 0 0 1 1 0 1 0 1 1 0\n",
      " 0 1 0 0 1 0 1 1 0 0 0 0 0 0 0 0 0 0 1 0 1 0 1]\n"
     ]
    }
   ],
   "source": [
    "# Preparing for data training\n",
    "# x = dataset.iloc[:,0:3].values\n",
    "# y = dataset.iloc[:, 3].values\n",
    "y = np.array(dataset['Y'])\n",
    "x = dataset.drop('Y', axis = 1)\n",
    "\n",
    "# Divide data into training dan testing set\n",
    "from sklearn.model_selection import train_test_split\n",
    "\n",
    "x_train, x_test, y_train, y_test = train_test_split(x, y, test_size = 0.2, random_state = 0)\n",
    "\n",
    "print(x_train.shape)\n",
    "print(y_train.shape)\n",
    "print(x_test.shape)\n",
    "print(y_test.shape)\n",
    "\n",
    "print(y_train)"
   ]
  },
  {
   "cell_type": "code",
   "execution_count": 59,
   "metadata": {},
   "outputs": [
    {
     "name": "stdout",
     "output_type": "stream",
     "text": [
      "[1 1 1 1 0 1 1 1 0 0 1 1 0 1 0 0 0 1 0 0 1 1 0 1 0 1 0 1 1 1 0 1 1 1 1 0 1\n",
      " 0 0 1 0 0 1 1 1 1 0 0 0 0 1 0 0 0 1 1 0 0 0 1 0 1 1 0 1 1 0 0 1 0 0 0 0 0\n",
      " 1 0 1 0 1 0 1 1 1 0 0 0 1 0 1 0 0 1 0 1 1 0 0 1 0 1 1 0 0 1 0 1 0 0 1 0 1\n",
      " 0 1 1 0 1 0 0 1 0 1 0 1 1 0 0 0 0 0 0 0 0 0 1 1 0 0 1 1 1 1 1 1 0 1 1 0 0\n",
      " 0 0 0 1 0 1 0 1 0 1 1 1 1 0 1 1 1 0 0 1 1 0 1 0 0 1 0 1 0 1 1 0 1 0 1 0 0\n",
      " 0 0 1 1 1 1 0 1 1 0 0 0 0 1 0]\n"
     ]
    }
   ],
   "source": [
    "# Training the algorithm\n",
    "from sklearn.ensemble import RandomForestClassifier\n",
    "\n",
    "randomforest = RandomForestClassifier(n_estimators = 20, random_state = 42)\n",
    "randomforest.fit(x_train, y_train)\n",
    "y_pred = randomforest.predict(x_test)\n",
    "\n",
    "print(y_pred)\n",
    "# print(y_pred.round())"
   ]
  },
  {
   "cell_type": "code",
   "execution_count": 60,
   "metadata": {},
   "outputs": [
    {
     "name": "stdout",
     "output_type": "stream",
     "text": [
      "[[96  5]\n",
      " [ 6 93]]\n",
      "              precision    recall  f1-score   support\n",
      "\n",
      "           0       0.94      0.95      0.95       101\n",
      "           1       0.95      0.94      0.94        99\n",
      "\n",
      "   micro avg       0.94      0.94      0.94       200\n",
      "   macro avg       0.95      0.94      0.94       200\n",
      "weighted avg       0.95      0.94      0.94       200\n",
      "\n",
      "0.945\n"
     ]
    }
   ],
   "source": [
    "# Evaluating the data model\n",
    "from sklearn.metrics import classification_report, confusion_matrix, accuracy_score\n",
    "\n",
    "print(confusion_matrix(y_test, y_pred))\n",
    "print(classification_report(y_test, y_pred))\n",
    "print(accuracy_score(y_test, y_pred))"
   ]
  },
  {
   "cell_type": "code",
   "execution_count": 61,
   "metadata": {},
   "outputs": [
    {
     "name": "stdout",
     "output_type": "stream",
     "text": [
      "The accuracy is:  96.76072433192687 %\n"
     ]
    }
   ],
   "source": [
    "from sklearn.model_selection import cross_validate\n",
    "\n",
    "accuracy = cross_validate(regressor,x_train,y_train,cv=10)['test_score']\n",
    "print('The accuracy is: ',sum(accuracy)/len(accuracy)*100,'%')"
   ]
  },
  {
   "cell_type": "code",
   "execution_count": 62,
   "metadata": {},
   "outputs": [
    {
     "data": {
      "text/html": [
       "<div>\n",
       "<style scoped>\n",
       "    .dataframe tbody tr th:only-of-type {\n",
       "        vertical-align: middle;\n",
       "    }\n",
       "\n",
       "    .dataframe tbody tr th {\n",
       "        vertical-align: top;\n",
       "    }\n",
       "\n",
       "    .dataframe thead th {\n",
       "        text-align: right;\n",
       "    }\n",
       "</style>\n",
       "<table border=\"1\" class=\"dataframe\">\n",
       "  <thead>\n",
       "    <tr style=\"text-align: right;\">\n",
       "      <th></th>\n",
       "      <th>X0</th>\n",
       "      <th>X1</th>\n",
       "    </tr>\n",
       "  </thead>\n",
       "  <tbody>\n",
       "    <tr>\n",
       "      <th>0</th>\n",
       "      <td>1.030522</td>\n",
       "      <td>0.892364</td>\n",
       "    </tr>\n",
       "    <tr>\n",
       "      <th>1</th>\n",
       "      <td>1.318739</td>\n",
       "      <td>-0.498590</td>\n",
       "    </tr>\n",
       "    <tr>\n",
       "      <th>2</th>\n",
       "      <td>1.210100</td>\n",
       "      <td>0.498914</td>\n",
       "    </tr>\n",
       "    <tr>\n",
       "      <th>3</th>\n",
       "      <td>-0.644977</td>\n",
       "      <td>1.346281</td>\n",
       "    </tr>\n",
       "    <tr>\n",
       "      <th>4</th>\n",
       "      <td>0.042483</td>\n",
       "      <td>0.550473</td>\n",
       "    </tr>\n",
       "  </tbody>\n",
       "</table>\n",
       "</div>"
      ],
      "text/plain": [
       "         X0        X1\n",
       "0  1.030522  0.892364\n",
       "1  1.318739 -0.498590\n",
       "2  1.210100  0.498914\n",
       "3 -0.644977  1.346281\n",
       "4  0.042483  0.550473"
      ]
     },
     "execution_count": 62,
     "metadata": {},
     "output_type": "execute_result"
    }
   ],
   "source": [
    "# Predict the data test\n",
    "datatest = pd.read_csv('el4233-2018-2019-02-klasifikasi-test.csv')\n",
    "data_test = datatest.drop('No', axis = 1)\n",
    "\n",
    "data_test.head()"
   ]
  },
  {
   "cell_type": "code",
   "execution_count": 63,
   "metadata": {},
   "outputs": [
    {
     "data": {
      "text/plain": [
       "(1000, 2)"
      ]
     },
     "execution_count": 63,
     "metadata": {},
     "output_type": "execute_result"
    }
   ],
   "source": [
    "x_prediction = data_test\n",
    "\n",
    "x_prediction.shape"
   ]
  },
  {
   "cell_type": "code",
   "execution_count": 64,
   "metadata": {},
   "outputs": [
    {
     "name": "stdout",
     "output_type": "stream",
     "text": [
      "[0 1 0 0 1 0 1 0 1 0 0 1 1 0 1 1 0 1 0 0 1 0 0 1 1 0 1 0 0 0 1 0 1 0 1 0 0\n",
      " 1 1 1 0 1 0 1 0 0 1 1 0 1 1 0 0 1 1 0 1 0 1 0 0 0 1 1 1 0 0 1 1 0 1 1 0 0\n",
      " 1 1 0 0 1 0 1 1 0 1 1 0 1 0 1 1 1 0 0 1 1 1 0 1 0 1 0 1 1 1 0 0 1 0 1 1 0\n",
      " 0 0 0 1 0 1 0 0 1 1 0 0 0 0 1 1 1 1 1 0 1 1 0 1 1 0 0 0 0 0 0 1 1 0 0 0 0\n",
      " 0 0 0 1 1 0 1 1 1 1 1 1 0 0 1 1 1 0 1 0 1 0 0 0 1 0 0 1 0 0 0 0 1 0 0 1 1\n",
      " 1 1 0 0 1 0 0 0 1 0 1 1 0 0 0 1 0 0 1 0 1 1 0 0 1 0 1 1 0 1 1 0 1 1 1 0 0\n",
      " 0 0 0 1 0 0 0 1 1 0 0 0 0 0 1 1 0 0 1 0 1 0 0 0 1 1 1 1 1 1 0 1 1 0 1 1 1\n",
      " 1 1 0 0 0 1 0 0 0 0 0 1 1 0 0 1 1 0 1 1 0 0 1 0 1 1 0 1 1 1 0 0 1 0 0 1 1\n",
      " 1 1 0 0 0 0 0 1 1 1 1 1 1 0 0 0 1 0 1 1 0 1 0 1 1 0 1 1 1 1 1 1 0 1 0 0 0\n",
      " 1 1 1 0 1 1 1 1 0 0 1 1 0 0 0 1 1 0 1 1 0 1 0 1 1 1 1 0 1 0 1 1 0 0 0 1 1\n",
      " 1 0 0 1 1 0 0 1 1 0 0 1 1 0 1 1 1 1 1 1 0 0 0 0 1 1 1 0 1 1 1 0 1 1 1 1 0\n",
      " 0 0 0 1 1 0 0 1 1 1 0 0 0 0 1 1 1 0 0 1 1 1 0 0 0 1 1 0 1 0 1 1 0 1 1 1 1\n",
      " 1 0 0 1 0 1 0 0 1 1 1 1 1 1 0 0 0 0 0 1 1 1 0 1 1 0 0 0 0 0 0 1 1 1 0 1 1\n",
      " 1 0 1 1 0 1 1 0 0 1 0 0 0 1 0 0 0 1 1 1 0 0 1 1 1 1 1 0 0 0 1 1 0 0 0 0 0\n",
      " 1 0 1 1 0 1 0 1 0 0 0 1 0 1 0 1 1 1 0 1 0 1 1 0 0 1 0 1 0 1 1 1 1 0 0 0 0\n",
      " 1 1 1 1 1 0 0 1 1 1 1 0 1 1 0 0 1 0 1 1 1 0 1 0 0 1 1 1 0 1 1 1 1 0 0 0 0\n",
      " 0 1 1 1 1 0 0 1 0 0 0 0 0 0 0 1 1 1 1 0 0 0 0 1 0 1 0 0 1 1 1 1 0 1 1 0 0\n",
      " 1 1 0 1 1 0 0 0 1 1 1 0 0 0 1 0 0 1 0 0 1 1 1 1 1 1 1 0 0 0 1 0 0 0 0 0 0\n",
      " 1 0 1 1 1 0 0 1 1 0 0 0 1 1 1 1 1 0 0 0 1 1 1 0 0 0 1 0 0 0 0 0 0 1 1 0 0\n",
      " 1 1 0 0 1 1 1 0 0 0 0 1 1 0 0 1 1 0 1 1 1 0 0 1 1 1 1 0 1 1 1 1 1 0 1 1 1\n",
      " 1 0 1 0 0 1 1 0 1 0 0 0 1 0 0 0 1 1 0 0 1 0 1 1 0 0 0 1 1 0 0 0 1 0 1 1 1\n",
      " 0 0 1 1 1 0 0 1 0 1 0 0 1 1 0 0 1 0 1 0 1 0 0 1 1 0 0 1 0 1 0 0 1 0 1 1 0\n",
      " 1 1 0 1 0 1 0 0 1 1 1 0 0 0 1 1 0 1 0 0 0 0 1 0 0 0 1 1 0 0 1 0 0 1 0 0 0\n",
      " 0 0 1 0 0 0 1 1 1 1 0 0 1 0 0 0 0 0 1 1 0 0 1 1 0 1 1 1 1 1 0 1 1 0 1 0 0\n",
      " 0 0 0 1 1 1 1 1 0 0 1 1 1 0 0 0 0 0 0 0 1 0 0 0 1 0 0 1 1 0 0 1 0 0 1 1 1\n",
      " 1 0 0 0 0 1 0 1 1 1 0 0 0 1 0 1 0 0 0 0 0 0 0 0 0 1 1 0 0 1 0 0 1 1 0 0 0\n",
      " 1 1 1 0 0 0 1 0 1 0 0 1 0 1 0 0 0 1 0 0 1 1 1 1 0 1 1 0 1 1 1 1 0 0 1 1 0\n",
      " 0]\n"
     ]
    },
    {
     "data": {
      "text/plain": [
       "(1000,)"
      ]
     },
     "execution_count": 64,
     "metadata": {},
     "output_type": "execute_result"
    }
   ],
   "source": [
    "# predict the result\n",
    "y_prediction = randomforest.predict(x_prediction)\n",
    "\n",
    "print(y_prediction)\n",
    "y_prediction.shape"
   ]
  },
  {
   "cell_type": "code",
   "execution_count": 65,
   "metadata": {},
   "outputs": [
    {
     "name": "stdout",
     "output_type": "stream",
     "text": [
      "       No        X0        X1  prediksi\n",
      "0    1000  1.030522  0.892364         0\n",
      "1    1001  1.318739 -0.498590         1\n",
      "2    1002  1.210100  0.498914         0\n",
      "3    1003 -0.644977  1.346281         0\n",
      "4    1004  0.042483  0.550473         1\n",
      "5    1005 -0.886007  0.899231         0\n",
      "6    1006  0.808737 -0.280190         1\n",
      "7    1007  0.998703  0.231264         0\n",
      "8    1008  1.839213  0.062754         1\n",
      "9    1009  0.414872  1.454819         0\n",
      "10   1010  1.034116  0.681630         0\n",
      "11   1011  0.689122 -0.417326         1\n",
      "12   1012  0.091345  0.383053         1\n",
      "13   1013 -1.213295  0.670943         0\n",
      "14   1014  0.455126 -0.090785         1\n",
      "15   1015  1.201385  0.000165         1\n",
      "16   1016 -0.618245  0.707295         0\n",
      "17   1017  1.794065 -0.164296         1\n",
      "18   1018  1.306753  0.688382         0\n",
      "19   1019  0.987622  0.308359         0\n",
      "20   1020  2.042701  0.301285         1\n",
      "21   1021  0.700648  1.395533         0\n",
      "22   1022  1.064990  0.418018         0\n",
      "23   1023  1.658129 -0.330109         1\n",
      "24   1024  0.023851  0.294368         1\n",
      "25   1025  0.596702  1.211894         0\n",
      "26   1026  0.455377 -0.221332         1\n",
      "27   1027  0.851786  1.111942         0\n",
      "28   1028 -0.135595  1.046369         0\n",
      "29   1029 -0.080430  1.637697         0\n",
      "..    ...       ...       ...       ...\n",
      "970  1970  1.550078  0.227779         1\n",
      "971  1971 -0.402433  1.247790         0\n",
      "972  1972  0.162570  1.482213         0\n",
      "973  1973  1.478819 -0.433250         1\n",
      "974  1974 -0.926446  1.112851         0\n",
      "975  1975  1.510945 -0.247273         1\n",
      "976  1976  1.125564  0.732670         0\n",
      "977  1977  1.124036  0.247590         0\n",
      "978  1978 -0.106507  1.353781         0\n",
      "979  1979  0.719062 -0.133476         1\n",
      "980  1980  0.235495  1.376559         0\n",
      "981  1981  0.800804  1.066887         0\n",
      "982  1982  0.891334 -0.428375         1\n",
      "983  1983 -0.033005  0.980116         1\n",
      "984  1984  0.696512 -0.402091         1\n",
      "985  1985  0.278456  0.404542         1\n",
      "986  1986  0.174962  1.388266         0\n",
      "987  1987  2.184243 -0.395347         1\n",
      "988  1988  1.284570 -0.554872         1\n",
      "989  1989  0.952924  1.177230         0\n",
      "990  1990  1.759115 -0.147296         1\n",
      "991  1991  0.213906  0.813885         1\n",
      "992  1992  0.428816  0.230378         1\n",
      "993  1993  1.672197 -0.547969         1\n",
      "994  1994 -0.767601  1.424367         0\n",
      "995  1995 -0.643106  1.041301         0\n",
      "996  1996  0.519910  0.030210         1\n",
      "997  1997  1.297644 -0.190436         1\n",
      "998  1998  0.225894  1.116991         0\n",
      "999  1999  0.031786  1.657164         0\n",
      "\n",
      "[1000 rows x 4 columns]\n"
     ]
    }
   ],
   "source": [
    "datatest['prediksi'] = pd.Series(y_prediction)\n",
    "print(datatest)\n",
    "datatest = datatest.iloc[:, 0:3]\n",
    "datatest.to_csv('random_forest_result.csv')"
   ]
  }
 ],
 "metadata": {
  "kernelspec": {
   "display_name": "Python 3",
   "language": "python",
   "name": "python3"
  },
  "language_info": {
   "codemirror_mode": {
    "name": "ipython",
    "version": 3
   },
   "file_extension": ".py",
   "mimetype": "text/x-python",
   "name": "python",
   "nbconvert_exporter": "python",
   "pygments_lexer": "ipython3",
   "version": "3.7.1"
  }
 },
 "nbformat": 4,
 "nbformat_minor": 2
}
